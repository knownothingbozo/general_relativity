{
 "cells": [
  {
   "cell_type": "code",
   "execution_count": 1,
   "id": "66adefbb",
   "metadata": {},
   "outputs": [],
   "source": [
    "# Make sure to run!\n",
    "from sympy import *"
   ]
  },
  {
   "cell_type": "markdown",
   "id": "e721c576",
   "metadata": {},
   "source": [
    "In order to run this for any three of the coordinate systems, just comment out the ones not in use. "
   ]
  },
  {
   "cell_type": "code",
   "execution_count": 2,
   "id": "be123b62",
   "metadata": {},
   "outputs": [],
   "source": [
    "# Cartesian coordinates \n",
    "# x, y, z = symbols('x y z')  \n",
    "# x = [x, y, z]\n",
    "\n",
    "# Cylindrical coordinates \n",
    "# r, theta, z = symbols('r theta z')\n",
    "# x = [r, theta, z]\n",
    "\n",
    "# Spherical coordinates \n",
    "r, theta, phi = symbols(\"r theta phi\") # Spherical coordinates \n",
    "x = [r, theta, phi]"
   ]
  },
  {
   "cell_type": "markdown",
   "id": "459868f4",
   "metadata": {},
   "source": [
    "The first, fourth, and seventh lines are the Cartesian metric.\n",
    "\n",
    "The second, fifth, and eigth lines are the Cylindrical metric.\n",
    "\n",
    "The third, sixth, and ninth lines are the Spherical metric."
   ]
  },
  {
   "cell_type": "code",
   "execution_count": 3,
   "id": "99d718ea",
   "metadata": {},
   "outputs": [],
   "source": [
    "# metric\n",
    "\n",
    "def g(i,j):\n",
    "    #g00, g01, g02 = 1, 0, 0\n",
    "    #g00, g01, g02 = 1, 0, 0\n",
    "    g00, g01, g02 = 1, 0, 0\n",
    "    #g10, g11, g12 = 0, 1, 0\n",
    "    #g10, g11, g12 = 0, r**2, 0\n",
    "    g10, g11, g12 = 0, r**2, 0\n",
    "    #g20, g21, g22 = 0, 0, 1\n",
    "    #g20, g21, g22 = 0, 0, 1\n",
    "    g20, g21, g22 = 0, 0, (r*sin(theta))**2\n",
    "    \n",
    "    return ([[g00, g01, g02],\n",
    "             [g10, g11, g12],\n",
    "             [g20, g21, g22]]) [i][j]"
   ]
  },
  {
   "cell_type": "markdown",
   "id": "089762ec",
   "metadata": {},
   "source": [
    "Lines are assigned the same as above."
   ]
  },
  {
   "cell_type": "code",
   "execution_count": 4,
   "id": "8a20ce16",
   "metadata": {},
   "outputs": [],
   "source": [
    "# inverse metric\n",
    "\n",
    "def g_inv(i,j):\n",
    "    #g_inv_00, g_inv_01, g_inv_02 = 1, 0, 0\n",
    "    #g_inv_00, g_inv_01, g_inv_02 = 1, 0, 0\n",
    "    g_inv_00, g_inv_01, g_inv_02 = 1, 0, 0\n",
    "    #g_inv_10, g_inv_11, g_inv_12 = 0, 1, 0\n",
    "    #g_inv_10, g_inv_11, g_inv_12 = 0, r**-2, 0\n",
    "    g_inv_10, g_inv_11, g_inv_12 = 0, r**-2, 0 \n",
    "    #g_inv_20, g_inv_21, g_inv_22 = 0, 0, 1\n",
    "    #g_inv_20, g_inv_21, g_inv_22 = 0, 0, 1\n",
    "    g_inv_20, g_inv_21, g_inv_22 = 0, 0, (r*sin(theta))**-2\n",
    "    \n",
    "    return ([[g_inv_00, g_inv_01, g_inv_02],\n",
    "             [g_inv_10, g_inv_11, g_inv_12],\n",
    "             [g_inv_20, g_inv_21, g_inv_22]]) [i][j]"
   ]
  },
  {
   "cell_type": "markdown",
   "id": "2d355d96",
   "metadata": {},
   "source": [
    "$$ \\Gamma^i_{j k}=\\dfrac{1}{2}g^{il}\\left(\\partial_j g_{k l}+\\partial_k g_{l j}-\\partial_l g_{j k} \\right)\\ $$"
   ]
  },
  {
   "cell_type": "code",
   "execution_count": 5,
   "id": "0ab8da94",
   "metadata": {},
   "outputs": [],
   "source": [
    "# Christoffel symbols \n",
    "\n",
    "def Christoffel(i,j,k):\n",
    "    C = 0\n",
    "    for l in range(3):\n",
    "        C += 0.5*g_inv(i,l)*(diff(g(i,k), x[j]) + diff(g(i,j), x[k]) - diff(g(j,k), x[i]))\n",
    "    return C"
   ]
  },
  {
   "cell_type": "code",
   "execution_count": 6,
   "id": "9d38cdd4",
   "metadata": {},
   "outputs": [
    {
     "name": "stdout",
     "output_type": "stream",
     "text": [
      "[ 0 0 0 ] = 0\n",
      "[ 0 0 1 ] = 0\n",
      "[ 0 0 2 ] = 0\n",
      "[ 0 1 0 ] = 0\n",
      "[ 0 1 1 ] = -1.0*r\n",
      "[ 0 1 2 ] = 0\n",
      "[ 0 2 0 ] = 0\n",
      "[ 0 2 1 ] = 0\n",
      "[ 0 2 2 ] = -1.0*r*sin(theta)**2\n",
      "[ 1 0 0 ] = 0\n",
      "[ 1 0 1 ] = 1.0/r\n",
      "[ 1 0 2 ] = 0\n",
      "[ 1 1 0 ] = 1.0/r\n",
      "[ 1 1 1 ] = 0\n",
      "[ 1 1 2 ] = 0\n",
      "[ 1 2 0 ] = 0\n",
      "[ 1 2 1 ] = 0\n",
      "[ 1 2 2 ] = -1.0*sin(theta)*cos(theta)\n",
      "[ 2 0 0 ] = 0\n",
      "[ 2 0 1 ] = 0\n",
      "[ 2 0 2 ] = 1.0/r\n",
      "[ 2 1 0 ] = 0\n",
      "[ 2 1 1 ] = 0\n",
      "[ 2 1 2 ] = 1.0*cos(theta)/sin(theta)\n",
      "[ 2 2 0 ] = 1.0/r\n",
      "[ 2 2 1 ] = 1.0*cos(theta)/sin(theta)\n",
      "[ 2 2 2 ] = 0\n"
     ]
    }
   ],
   "source": [
    "for i in range(3):\n",
    "    for j in range(3):\n",
    "        for k in range(3):\n",
    "            print('[',i,j,k,']', '=', Christoffel(i,j,k))"
   ]
  },
  {
   "cell_type": "markdown",
   "id": "8898b067",
   "metadata": {},
   "source": [
    "For Schwarzschild Metric \n",
    "\n",
    "$$ g_{\\mu\\nu} = \\begin{bmatrix} -(1 - \\frac{r_{s}}{r})c^2 & 0 & 0 & 0 \\\\ 0 & (1 - \\frac{r_{s}}{r})^{-1} & 0 & 0 \\\\ 0 & 0 & r^2 & 0 \\\\ 0 & 0 & 0 & r^2sin^2\\theta \\end{bmatrix} $$\n",
    "\n",
    "With coordinates \n",
    "\n",
    "$$ x^0, x^1, x^2, x^3 = [t, r, \\theta, \\phi] $$"
   ]
  },
  {
   "cell_type": "code",
   "execution_count": 6,
   "id": "7950ce5c",
   "metadata": {},
   "outputs": [],
   "source": [
    "from sympy import *"
   ]
  },
  {
   "cell_type": "code",
   "execution_count": 7,
   "id": "fb91c317",
   "metadata": {},
   "outputs": [
    {
     "data": {
      "text/plain": [
       "[t, r, theta, phi]"
      ]
     },
     "execution_count": 7,
     "metadata": {},
     "output_type": "execute_result"
    }
   ],
   "source": [
    "t, rs, r, theta, phi, c = symbols('t rs r theta phi c')\n",
    "x = [t, r, theta, phi]\n",
    "x"
   ]
  },
  {
   "cell_type": "code",
   "execution_count": 8,
   "id": "5d8cbe9e",
   "metadata": {},
   "outputs": [],
   "source": [
    "def g(i,j):\n",
    "    g00, g01, g02, g03 = -(1 - (rs/r))*c**2, 0, 0, 0\n",
    "    g10, g11, g12, g13 = 0, (1 - (rs/r))**-1, 0, 0\n",
    "    g20, g21, g22, g23 = 0, 0, r**2, 0\n",
    "    g30, g31, g32, g33 = 0, 0, 0, (r*sin(theta))**2\n",
    "    \n",
    "    return ([[g00, g01, g02, g03],\n",
    "             [g10, g11, g12, g13],\n",
    "             [g20, g21, g22, g23],\n",
    "             [g30, g31, g32, g33]]) [i][j]"
   ]
  },
  {
   "cell_type": "code",
   "execution_count": 9,
   "id": "56651d89",
   "metadata": {},
   "outputs": [
    {
     "data": {
      "text/latex": [
       "$\\displaystyle \\left[\\begin{matrix}c^{2} \\left(-1 + \\frac{rs}{r}\\right) & 0 & 0 & 0\\\\0 & \\frac{1}{1 - \\frac{rs}{r}} & 0 & 0\\\\0 & 0 & r^{2} & 0\\\\0 & 0 & 0 & r^{2} \\sin^{2}{\\left(\\theta \\right)}\\end{matrix}\\right]$"
      ],
      "text/plain": [
       "Matrix([\n",
       "[c**2*(-1 + rs/r),            0,    0,                  0],\n",
       "[               0, 1/(1 - rs/r),    0,                  0],\n",
       "[               0,            0, r**2,                  0],\n",
       "[               0,            0,    0, r**2*sin(theta)**2]])"
      ]
     },
     "execution_count": 9,
     "metadata": {},
     "output_type": "execute_result"
    }
   ],
   "source": [
    "G = Matrix([[-(1 - (rs/r))*c**2, 0, 0, 0],\n",
    "            [0, (1 - (rs/r))**-1, 0, 0],\n",
    "            [0, 0, r**2, 0],\n",
    "            [0, 0, 0, (r*sin(theta))**2]])\n",
    "G"
   ]
  },
  {
   "cell_type": "code",
   "execution_count": 10,
   "id": "2a7a7e49",
   "metadata": {},
   "outputs": [
    {
     "data": {
      "text/latex": [
       "$\\displaystyle \\left[\\begin{matrix}- \\frac{r}{c^{2} r - c^{2} rs} & 0 & 0 & 0\\\\0 & 1 - \\frac{rs}{r} & 0 & 0\\\\0 & 0 & \\frac{1}{r^{2}} & 0\\\\0 & 0 & 0 & \\frac{1}{r^{2} \\sin^{2}{\\left(\\theta \\right)}}\\end{matrix}\\right]$"
      ],
      "text/plain": [
       "Matrix([\n",
       "[-r/(c**2*r - c**2*rs),        0,       0,                      0],\n",
       "[                    0, 1 - rs/r,       0,                      0],\n",
       "[                    0,        0, r**(-2),                      0],\n",
       "[                    0,        0,       0, 1/(r**2*sin(theta)**2)]])"
      ]
     },
     "execution_count": 10,
     "metadata": {},
     "output_type": "execute_result"
    }
   ],
   "source": [
    "G.inv()"
   ]
  },
  {
   "cell_type": "code",
   "execution_count": 11,
   "id": "bce35dc2",
   "metadata": {},
   "outputs": [],
   "source": [
    "def g_inv(i,j):\n",
    "    g_inv_00, g_inv_01, g_inv_02, g_inv_03 = (-(1 - (rs/r))*c**2)**-1, 0, 0, 0\n",
    "    g_inv_10, g_inv_11, g_inv_12, g_inv_13 = 0, (1 - (rs/r))**1, 0, 0\n",
    "    g_inv_20, g_inv_21, g_inv_22, g_inv_23 = 0, 0, r**-2, 0\n",
    "    g_inv_30, g_inv_31, g_inv_32, g_inv_33 = 0, 0, 0, (r*sin(theta))**-2\n",
    "    \n",
    "    return ([[g_inv_00, g_inv_01, g_inv_02, g_inv_03],\n",
    "             [g_inv_10, g_inv_11, g_inv_12, g_inv_13],\n",
    "             [g_inv_20, g_inv_21, g_inv_22, g_inv_23],\n",
    "             [g_inv_30, g_inv_31, g_inv_32, g_inv_33]]) [i][j]"
   ]
  },
  {
   "cell_type": "code",
   "execution_count": 12,
   "id": "e40f8822",
   "metadata": {},
   "outputs": [],
   "source": [
    "# Christoffel symbols \n",
    "\n",
    "def Christoffel(i,j,k):\n",
    "    C = 0\n",
    "    for l in range(4):\n",
    "        C += 0.5*g_inv(i,l)*(diff(g(i,k), x[j]) + diff(g(i,j), x[k]) - diff(g(j,k), x[i]))\n",
    "    return C"
   ]
  },
  {
   "cell_type": "code",
   "execution_count": 14,
   "id": "7a6ba5c5",
   "metadata": {
    "scrolled": true
   },
   "outputs": [
    {
     "name": "stdout",
     "output_type": "stream",
     "text": [
      "[ 0 0 0 ] = 0\n",
      "[ 0 0 1 ] = -0.5*rs/(r**2*(-1 + rs/r))\n",
      "[ 0 0 2 ] = 0\n",
      "[ 0 0 3 ] = 0\n",
      "[ 0 1 0 ] = -0.5*rs/(r**2*(-1 + rs/r))\n",
      "[ 0 1 1 ] = 0\n",
      "[ 0 1 2 ] = 0\n",
      "[ 0 1 3 ] = 0\n",
      "[ 0 2 0 ] = 0\n",
      "[ 0 2 1 ] = 0\n",
      "[ 0 2 2 ] = 0\n",
      "[ 0 2 3 ] = 0\n",
      "[ 0 3 0 ] = 0\n",
      "[ 0 3 1 ] = 0\n",
      "[ 0 3 2 ] = 0\n",
      "[ 0 3 3 ] = 0\n",
      "[ 1 0 0 ] = c**2*rs*(0.5 - 0.5*rs/r)/r**2\n",
      "[ 1 0 1 ] = 0\n",
      "[ 1 0 2 ] = 0\n",
      "[ 1 0 3 ] = 0\n",
      "[ 1 1 0 ] = 0\n",
      "[ 1 1 1 ] = -rs*(0.5 - 0.5*rs/r)/(r**2*(1 - rs/r)**2)\n",
      "[ 1 1 2 ] = 0\n",
      "[ 1 1 3 ] = 0\n",
      "[ 1 2 0 ] = 0\n",
      "[ 1 2 1 ] = 0\n",
      "[ 1 2 2 ] = -2*r*(0.5 - 0.5*rs/r)\n",
      "[ 1 2 3 ] = 0\n",
      "[ 1 3 0 ] = 0\n",
      "[ 1 3 1 ] = 0\n",
      "[ 1 3 2 ] = 0\n",
      "[ 1 3 3 ] = -2*r*(0.5 - 0.5*rs/r)*sin(theta)**2\n",
      "[ 2 0 0 ] = 0\n",
      "[ 2 0 1 ] = 0\n",
      "[ 2 0 2 ] = 0\n",
      "[ 2 0 3 ] = 0\n",
      "[ 2 1 0 ] = 0\n",
      "[ 2 1 1 ] = 0\n",
      "[ 2 1 2 ] = 1.0/r\n",
      "[ 2 1 3 ] = 0\n",
      "[ 2 2 0 ] = 0\n",
      "[ 2 2 1 ] = 1.0/r\n",
      "[ 2 2 2 ] = 0\n",
      "[ 2 2 3 ] = 0\n",
      "[ 2 3 0 ] = 0\n",
      "[ 2 3 1 ] = 0\n",
      "[ 2 3 2 ] = 0\n",
      "[ 2 3 3 ] = -1.0*sin(theta)*cos(theta)\n",
      "[ 3 0 0 ] = 0\n",
      "[ 3 0 1 ] = 0\n",
      "[ 3 0 2 ] = 0\n",
      "[ 3 0 3 ] = 0\n",
      "[ 3 1 0 ] = 0\n",
      "[ 3 1 1 ] = 0\n",
      "[ 3 1 2 ] = 0\n",
      "[ 3 1 3 ] = 1.0/r\n",
      "[ 3 2 0 ] = 0\n",
      "[ 3 2 1 ] = 0\n",
      "[ 3 2 2 ] = 0\n",
      "[ 3 2 3 ] = 1.0*cos(theta)/sin(theta)\n",
      "[ 3 3 0 ] = 0\n",
      "[ 3 3 1 ] = 1.0/r\n",
      "[ 3 3 2 ] = 1.0*cos(theta)/sin(theta)\n",
      "[ 3 3 3 ] = 0\n"
     ]
    }
   ],
   "source": [
    "for i in range(4):\n",
    "    for j in range(4):\n",
    "        for k in range(4):\n",
    "            print('[',i,j,k,']', '=', Christoffel(i,j,k))"
   ]
  },
  {
   "cell_type": "code",
   "execution_count": null,
   "id": "e9539f5f",
   "metadata": {},
   "outputs": [],
   "source": []
  },
  {
   "cell_type": "code",
   "execution_count": null,
   "id": "fe3b141e",
   "metadata": {},
   "outputs": [],
   "source": []
  },
  {
   "cell_type": "code",
   "execution_count": null,
   "id": "8cc95569",
   "metadata": {},
   "outputs": [],
   "source": []
  },
  {
   "cell_type": "code",
   "execution_count": null,
   "id": "58cb94fd",
   "metadata": {},
   "outputs": [],
   "source": []
  }
 ],
 "metadata": {
  "kernelspec": {
   "display_name": "Python 3 (ipykernel)",
   "language": "python",
   "name": "python3"
  },
  "language_info": {
   "codemirror_mode": {
    "name": "ipython",
    "version": 3
   },
   "file_extension": ".py",
   "mimetype": "text/x-python",
   "name": "python",
   "nbconvert_exporter": "python",
   "pygments_lexer": "ipython3",
   "version": "3.9.13"
  }
 },
 "nbformat": 4,
 "nbformat_minor": 5
}
