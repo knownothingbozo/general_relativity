{
 "cells": [
  {
   "attachments": {},
   "cell_type": "markdown",
   "metadata": {},
   "source": [
    "## General Relativity Standard 6: Computing Christoffel Symbols\n",
    "### Alya Sharbaugh, Spring 2023"
   ]
  },
  {
   "cell_type": "code",
   "execution_count": 8,
   "metadata": {},
   "outputs": [],
   "source": [
    "#importing libraries\n",
    "\n",
    "import sympy as sym\n",
    "from IPython.display import display, Math"
   ]
  },
  {
   "attachments": {},
   "cell_type": "markdown",
   "metadata": {},
   "source": [
    "### 2D Metric in Polar Coordinates"
   ]
  },
  {
   "cell_type": "code",
   "execution_count": 9,
   "metadata": {},
   "outputs": [
    {
     "data": {
      "text/latex": [
       "$\\displaystyle \\left[\\begin{matrix}\\theta & \\phi\\end{matrix}\\right]$"
      ],
      "text/plain": [
       "<IPython.core.display.Math object>"
      ]
     },
     "metadata": {},
     "output_type": "display_data"
    },
    {
     "data": {
      "text/latex": [
       "$\\displaystyle \\left[\\begin{matrix}r^{2} & 0\\\\0 & r^{2} \\sin^{2}{\\left(\\theta \\right)}\\end{matrix}\\right]$"
      ],
      "text/plain": [
       "<IPython.core.display.Math object>"
      ]
     },
     "metadata": {},
     "output_type": "display_data"
    },
    {
     "data": {
      "text/latex": [
       "$\\displaystyle \\left[\\begin{matrix}\\frac{1}{r^{2}} & 0\\\\0 & \\frac{1}{r^{2} \\sin^{2}{\\left(\\theta \\right)}}\\end{matrix}\\right]$"
      ],
      "text/plain": [
       "<IPython.core.display.Math object>"
      ]
     },
     "metadata": {},
     "output_type": "display_data"
    }
   ],
   "source": [
    "#input metric of interest in 2D polar coordinates\n",
    "\n",
    "r = sym.Symbol(\"r\")\n",
    "theta = sym.Symbol(\"theta\")\n",
    "phi = sym.Symbol(\"phi\")\n",
    "\n",
    "coordinates = sym.Matrix([\n",
    "    [theta, phi]\n",
    "])\n",
    "\n",
    "metric = sym.Matrix([\n",
    "    [r**2, 0],\n",
    "    [0, (r**2)*sym.sin(theta)**2],\n",
    "])\n",
    "\n",
    "inv_metric = metric.inv()\n",
    "\n",
    "display(Math(sym.latex(coordinates)))\n",
    "display(Math(sym.latex(metric)))\n",
    "display(Math(sym.latex(inv_metric)))"
   ]
  },
  {
   "cell_type": "code",
   "execution_count": 10,
   "metadata": {},
   "outputs": [
    {
     "name": "stdout",
     "output_type": "stream",
     "text": [
      "\n",
      "Computing Christoffel Symbols for the 2D Polar Metric:\n",
      "\n"
     ]
    },
    {
     "data": {
      "text/latex": [
       "$\\displaystyle \\Gamma^{2}_{3,3} = - 1.0 \\sin{\\left(\\theta \\right)} \\cos{\\left(\\theta \\right)}$"
      ],
      "text/plain": [
       "<IPython.core.display.Math object>"
      ]
     },
     "metadata": {},
     "output_type": "display_data"
    },
    {
     "data": {
      "text/latex": [
       "$\\displaystyle \\Gamma^{3}_{2,3} = \\frac{1.0 \\cos{\\left(\\theta \\right)}}{\\sin{\\left(\\theta \\right)}}$"
      ],
      "text/plain": [
       "<IPython.core.display.Math object>"
      ]
     },
     "metadata": {},
     "output_type": "display_data"
    },
    {
     "data": {
      "text/latex": [
       "$\\displaystyle \\Gamma^{3}_{3,2} = \\frac{1.0 \\cos{\\left(\\theta \\right)}}{\\sin{\\left(\\theta \\right)}}$"
      ],
      "text/plain": [
       "<IPython.core.display.Math object>"
      ]
     },
     "metadata": {},
     "output_type": "display_data"
    },
    {
     "name": "stdout",
     "output_type": "stream",
     "text": [
      "\n",
      "All other combinations are zero.\n"
     ]
    }
   ],
   "source": [
    "#solve for Christoffel symbols by incrementing through indicies i,j,k, and l\n",
    "\n",
    "print(\"\\nComputing Christoffel Symbols for the 2D Polar Metric:\\n\")\n",
    "\n",
    "for i in range(0,2):\n",
    "    for j in range(0,2):\n",
    "        for k in range(0,2):\n",
    "\n",
    "            chris = 0\n",
    "            \n",
    "            for l in range(0,2):\n",
    "                \n",
    "                chris += 0.5*inv_metric[i,l]*(\n",
    "                    sym.diff(metric[k,l], coordinates[j])\n",
    "                    + sym.diff(metric[j,l], coordinates[k])\n",
    "                    - sym.diff(metric[j,k], coordinates[l])\n",
    "                )\n",
    "\n",
    "            if chris != 0:\n",
    "                display(Math(f\"\\\\Gamma^{{{i+2}}}_{{{j+2},{k+2}}}\" + \" = \" + sym.latex(chris)))\n",
    "\n",
    "print(\"\\nAll other combinations are zero.\")"
   ]
  },
  {
   "attachments": {},
   "cell_type": "markdown",
   "metadata": {},
   "source": [
    "### 3D Metric in Polar Coordinates"
   ]
  },
  {
   "cell_type": "code",
   "execution_count": 11,
   "metadata": {},
   "outputs": [
    {
     "data": {
      "text/latex": [
       "$\\displaystyle \\left[\\begin{matrix}r & \\theta & \\phi\\end{matrix}\\right]$"
      ],
      "text/plain": [
       "<IPython.core.display.Math object>"
      ]
     },
     "metadata": {},
     "output_type": "display_data"
    },
    {
     "data": {
      "text/latex": [
       "$\\displaystyle \\left[\\begin{matrix}1 & 0 & 0\\\\0 & r^{2} & 0\\\\0 & 0 & r^{2} \\sin^{2}{\\left(\\theta \\right)}\\end{matrix}\\right]$"
      ],
      "text/plain": [
       "<IPython.core.display.Math object>"
      ]
     },
     "metadata": {},
     "output_type": "display_data"
    },
    {
     "data": {
      "text/latex": [
       "$\\displaystyle \\left[\\begin{matrix}1 & 0 & 0\\\\0 & \\frac{1}{r^{2}} & 0\\\\0 & 0 & \\frac{1}{r^{2} \\sin^{2}{\\left(\\theta \\right)}}\\end{matrix}\\right]$"
      ],
      "text/plain": [
       "<IPython.core.display.Math object>"
      ]
     },
     "metadata": {},
     "output_type": "display_data"
    },
    {
     "name": "stdout",
     "output_type": "stream",
     "text": [
      "phi\n",
      "r**2*sin(theta)**2\n",
      "2*r**2*sin(theta)*cos(theta)\n"
     ]
    }
   ],
   "source": [
    "#input metric of interest in 3D polar coordinates\n",
    "\n",
    "r = sym.Symbol(\"r\")\n",
    "theta = sym.Symbol(\"theta\")\n",
    "phi = sym.Symbol(\"phi\")\n",
    "\n",
    "coordinates = sym.Matrix([\n",
    "    [r, theta, phi]\n",
    "])\n",
    "\n",
    "metric = sym.Matrix([\n",
    "    [1, 0, 0],\n",
    "    [0, r**2, 0],\n",
    "    [0, 0, (r**2)*sym.sin(theta)**2]\n",
    "])\n",
    "\n",
    "inv_metric = metric.inv()\n",
    "\n",
    "display(Math(sym.latex(coordinates)))\n",
    "display(Math(sym.latex(metric)))\n",
    "display(Math(sym.latex(inv_metric)))\n",
    "\n",
    "print(coordinates[2])\n",
    "print(metric[2,2])\n",
    "\n",
    "print(sym.diff(metric[2,2], coordinates[1]))\n"
   ]
  },
  {
   "cell_type": "code",
   "execution_count": 12,
   "metadata": {},
   "outputs": [
    {
     "name": "stdout",
     "output_type": "stream",
     "text": [
      "\n",
      "Computing Christoffel Symbols for the 3D Polar Metric:\n",
      "\n"
     ]
    },
    {
     "data": {
      "text/latex": [
       "$\\displaystyle \\Gamma^{1}_{2,2} = - 1.0 r$"
      ],
      "text/plain": [
       "<IPython.core.display.Math object>"
      ]
     },
     "metadata": {},
     "output_type": "display_data"
    },
    {
     "data": {
      "text/latex": [
       "$\\displaystyle \\Gamma^{1}_{3,3} = - 1.0 r \\sin^{2}{\\left(\\theta \\right)}$"
      ],
      "text/plain": [
       "<IPython.core.display.Math object>"
      ]
     },
     "metadata": {},
     "output_type": "display_data"
    },
    {
     "data": {
      "text/latex": [
       "$\\displaystyle \\Gamma^{2}_{1,2} = \\frac{1.0}{r}$"
      ],
      "text/plain": [
       "<IPython.core.display.Math object>"
      ]
     },
     "metadata": {},
     "output_type": "display_data"
    },
    {
     "data": {
      "text/latex": [
       "$\\displaystyle \\Gamma^{2}_{2,1} = \\frac{1.0}{r}$"
      ],
      "text/plain": [
       "<IPython.core.display.Math object>"
      ]
     },
     "metadata": {},
     "output_type": "display_data"
    },
    {
     "data": {
      "text/latex": [
       "$\\displaystyle \\Gamma^{2}_{3,3} = - 1.0 \\sin{\\left(\\theta \\right)} \\cos{\\left(\\theta \\right)}$"
      ],
      "text/plain": [
       "<IPython.core.display.Math object>"
      ]
     },
     "metadata": {},
     "output_type": "display_data"
    },
    {
     "data": {
      "text/latex": [
       "$\\displaystyle \\Gamma^{3}_{1,3} = \\frac{1.0}{r}$"
      ],
      "text/plain": [
       "<IPython.core.display.Math object>"
      ]
     },
     "metadata": {},
     "output_type": "display_data"
    },
    {
     "data": {
      "text/latex": [
       "$\\displaystyle \\Gamma^{3}_{2,3} = \\frac{1.0 \\cos{\\left(\\theta \\right)}}{\\sin{\\left(\\theta \\right)}}$"
      ],
      "text/plain": [
       "<IPython.core.display.Math object>"
      ]
     },
     "metadata": {},
     "output_type": "display_data"
    },
    {
     "data": {
      "text/latex": [
       "$\\displaystyle \\Gamma^{3}_{3,1} = \\frac{1.0}{r}$"
      ],
      "text/plain": [
       "<IPython.core.display.Math object>"
      ]
     },
     "metadata": {},
     "output_type": "display_data"
    },
    {
     "data": {
      "text/latex": [
       "$\\displaystyle \\Gamma^{3}_{3,2} = \\frac{1.0 \\cos{\\left(\\theta \\right)}}{\\sin{\\left(\\theta \\right)}}$"
      ],
      "text/plain": [
       "<IPython.core.display.Math object>"
      ]
     },
     "metadata": {},
     "output_type": "display_data"
    },
    {
     "name": "stdout",
     "output_type": "stream",
     "text": [
      "\n",
      "All other combinations are zero.\n"
     ]
    }
   ],
   "source": [
    "#solve for Christoffel symbols by incrementing through indicies i,j,k, and l\n",
    "\n",
    "print(\"\\nComputing Christoffel Symbols for the 3D Polar Metric:\\n\")\n",
    "\n",
    "for i in range(0,3):\n",
    "    for j in range(0,3):\n",
    "        for k in range(0,3):\n",
    "\n",
    "            chris = 0\n",
    "            \n",
    "            for l in range(0,3):\n",
    "                \n",
    "                chris += 0.5*inv_metric[i,l]*(\n",
    "                    sym.diff(metric[k,l], coordinates[j])\n",
    "                    + sym.diff(metric[j,l], coordinates[k])\n",
    "                    - sym.diff(metric[j,k], coordinates[l])\n",
    "                )\n",
    "\n",
    "            if chris != 0:\n",
    "                display(Math(f\"\\\\Gamma^{{{i+1}}}_{{{j+1},{k+1}}}\" + \" = \" + sym.latex(chris)))\n",
    "\n",
    "print(\"\\nAll other combinations are zero.\")"
   ]
  },
  {
   "attachments": {},
   "cell_type": "markdown",
   "metadata": {},
   "source": [
    "### 4D Metric in Polar Coordinates"
   ]
  },
  {
   "cell_type": "code",
   "execution_count": 13,
   "metadata": {},
   "outputs": [
    {
     "data": {
      "text/latex": [
       "$\\displaystyle \\left[\\begin{matrix}-1 + \\frac{rs}{r} & 0 & 0 & 0\\\\0 & \\frac{1}{1 - \\frac{rs}{r}} & 0 & 0\\\\0 & 0 & r^{2} & 0\\\\0 & 0 & 0 & r^{2} \\sin^{2}{\\left(\\theta \\right)}\\end{matrix}\\right]$"
      ],
      "text/plain": [
       "<IPython.core.display.Math object>"
      ]
     },
     "metadata": {},
     "output_type": "display_data"
    },
    {
     "data": {
      "text/latex": [
       "$\\displaystyle \\left[\\begin{matrix}\\frac{1}{-1 + \\frac{rs}{r}} & 0 & 0 & 0\\\\0 & 1 - \\frac{rs}{r} & 0 & 0\\\\0 & 0 & \\frac{1}{r^{2}} & 0\\\\0 & 0 & 0 & \\frac{1}{r^{2} \\sin^{2}{\\left(\\theta \\right)}}\\end{matrix}\\right]$"
      ],
      "text/plain": [
       "<IPython.core.display.Math object>"
      ]
     },
     "metadata": {},
     "output_type": "display_data"
    }
   ],
   "source": [
    "#input metric of interest in 4D polar coordinates\n",
    "rs = sym.Symbol(\"rs\")   #Swartzchild radius (constant)\n",
    "\n",
    "t = sym.Symbol(\"t\")\n",
    "r = sym.Symbol(\"r\")\n",
    "theta = sym.Symbol(\"theta\")\n",
    "phi = sym.Symbol(\"phi\")\n",
    "\n",
    "coordinates = sym.Matrix([\n",
    "    [t, r, theta, phi]\n",
    "])\n",
    "\n",
    "metric = sym.Matrix([\n",
    "    [-(1-rs/r), 0, 0, 0],\n",
    "    [0, (1-rs/r)**(-1), 0, 0],\n",
    "    [0, 0, r**2, 0],\n",
    "    [0, 0, 0, (r**2)*sym.sin(theta)**2]\n",
    "])\n",
    "\n",
    "inv_metric = metric.inv()\n",
    "\n",
    "display(Math(sym.latex(metric)))\n",
    "display(Math(sym.latex(inv_metric)))"
   ]
  },
  {
   "cell_type": "code",
   "execution_count": 14,
   "metadata": {},
   "outputs": [
    {
     "name": "stdout",
     "output_type": "stream",
     "text": [
      "\n",
      "Computing Christoffel Symbols for the Earth Orbit Problem:\n",
      "\n"
     ]
    },
    {
     "data": {
      "text/latex": [
       "$\\displaystyle \\Gamma^{0}_{0,1} = - \\frac{0.5 rs}{r^{2} \\left(-1 + \\frac{rs}{r}\\right)}$"
      ],
      "text/plain": [
       "<IPython.core.display.Math object>"
      ]
     },
     "metadata": {},
     "output_type": "display_data"
    },
    {
     "data": {
      "text/latex": [
       "$\\displaystyle \\Gamma^{0}_{1,0} = - \\frac{0.5 rs}{r^{2} \\left(-1 + \\frac{rs}{r}\\right)}$"
      ],
      "text/plain": [
       "<IPython.core.display.Math object>"
      ]
     },
     "metadata": {},
     "output_type": "display_data"
    },
    {
     "data": {
      "text/latex": [
       "$\\displaystyle \\Gamma^{1}_{0,0} = \\frac{rs \\left(0.5 - \\frac{0.5 rs}{r}\\right)}{r^{2}}$"
      ],
      "text/plain": [
       "<IPython.core.display.Math object>"
      ]
     },
     "metadata": {},
     "output_type": "display_data"
    },
    {
     "data": {
      "text/latex": [
       "$\\displaystyle \\Gamma^{1}_{1,1} = - \\frac{rs \\left(0.5 - \\frac{0.5 rs}{r}\\right)}{r^{2} \\left(1 - \\frac{rs}{r}\\right)^{2}}$"
      ],
      "text/plain": [
       "<IPython.core.display.Math object>"
      ]
     },
     "metadata": {},
     "output_type": "display_data"
    },
    {
     "data": {
      "text/latex": [
       "$\\displaystyle \\Gamma^{1}_{2,2} = - 2 r \\left(0.5 - \\frac{0.5 rs}{r}\\right)$"
      ],
      "text/plain": [
       "<IPython.core.display.Math object>"
      ]
     },
     "metadata": {},
     "output_type": "display_data"
    },
    {
     "data": {
      "text/latex": [
       "$\\displaystyle \\Gamma^{1}_{3,3} = - 2 r \\left(0.5 - \\frac{0.5 rs}{r}\\right) \\sin^{2}{\\left(\\theta \\right)}$"
      ],
      "text/plain": [
       "<IPython.core.display.Math object>"
      ]
     },
     "metadata": {},
     "output_type": "display_data"
    },
    {
     "data": {
      "text/latex": [
       "$\\displaystyle \\Gamma^{2}_{1,2} = \\frac{1.0}{r}$"
      ],
      "text/plain": [
       "<IPython.core.display.Math object>"
      ]
     },
     "metadata": {},
     "output_type": "display_data"
    },
    {
     "data": {
      "text/latex": [
       "$\\displaystyle \\Gamma^{2}_{2,1} = \\frac{1.0}{r}$"
      ],
      "text/plain": [
       "<IPython.core.display.Math object>"
      ]
     },
     "metadata": {},
     "output_type": "display_data"
    },
    {
     "data": {
      "text/latex": [
       "$\\displaystyle \\Gamma^{2}_{3,3} = - 1.0 \\sin{\\left(\\theta \\right)} \\cos{\\left(\\theta \\right)}$"
      ],
      "text/plain": [
       "<IPython.core.display.Math object>"
      ]
     },
     "metadata": {},
     "output_type": "display_data"
    },
    {
     "data": {
      "text/latex": [
       "$\\displaystyle \\Gamma^{3}_{1,3} = \\frac{1.0}{r}$"
      ],
      "text/plain": [
       "<IPython.core.display.Math object>"
      ]
     },
     "metadata": {},
     "output_type": "display_data"
    },
    {
     "data": {
      "text/latex": [
       "$\\displaystyle \\Gamma^{3}_{2,3} = \\frac{1.0 \\cos{\\left(\\theta \\right)}}{\\sin{\\left(\\theta \\right)}}$"
      ],
      "text/plain": [
       "<IPython.core.display.Math object>"
      ]
     },
     "metadata": {},
     "output_type": "display_data"
    },
    {
     "data": {
      "text/latex": [
       "$\\displaystyle \\Gamma^{3}_{3,1} = \\frac{1.0}{r}$"
      ],
      "text/plain": [
       "<IPython.core.display.Math object>"
      ]
     },
     "metadata": {},
     "output_type": "display_data"
    },
    {
     "data": {
      "text/latex": [
       "$\\displaystyle \\Gamma^{3}_{3,2} = \\frac{1.0 \\cos{\\left(\\theta \\right)}}{\\sin{\\left(\\theta \\right)}}$"
      ],
      "text/plain": [
       "<IPython.core.display.Math object>"
      ]
     },
     "metadata": {},
     "output_type": "display_data"
    },
    {
     "name": "stdout",
     "output_type": "stream",
     "text": [
      "\n",
      "All other combinations are zero.\n"
     ]
    }
   ],
   "source": [
    "#solve for Christoffel symbols by incrementing through indicies i,j,k, and l\n",
    "\n",
    "print(\"\\nComputing Christoffel Symbols for the Earth Orbit Problem:\\n\")\n",
    "\n",
    "for i in range(0,4):\n",
    "    for j in range(0,4):\n",
    "        for k in range(0,4):\n",
    "\n",
    "            chris = 0\n",
    "            \n",
    "            for l in range(0,4):\n",
    "\n",
    "                chris += 0.5*inv_metric[i,l]*(\n",
    "                    sym.diff(metric[k,l], coordinates[j])\n",
    "                    + sym.diff(metric[j,l], coordinates[k])\n",
    "                    - sym.diff(metric[j,k], coordinates[l])\n",
    "                )\n",
    "\n",
    "            if chris != 0:\n",
    "                display(Math(f\"\\\\Gamma^{{{i}}}_{{{j},{k}}}\" + \" = \" + sym.latex(chris)))\n",
    "\n",
    "print(\"\\nAll other combinations are zero.\")"
   ]
  }
 ],
 "metadata": {
  "kernelspec": {
   "display_name": "Python 3",
   "language": "python",
   "name": "python3"
  },
  "language_info": {
   "codemirror_mode": {
    "name": "ipython",
    "version": 3
   },
   "file_extension": ".py",
   "mimetype": "text/x-python",
   "name": "python",
   "nbconvert_exporter": "python",
   "pygments_lexer": "ipython3",
   "version": "3.7.6"
  },
  "orig_nbformat": 4,
  "vscode": {
   "interpreter": {
    "hash": "916dbcbb3f70747c44a77c7bcd40155683ae19c65e1c03b4aa3499c5328201f1"
   }
  }
 },
 "nbformat": 4,
 "nbformat_minor": 2
}
