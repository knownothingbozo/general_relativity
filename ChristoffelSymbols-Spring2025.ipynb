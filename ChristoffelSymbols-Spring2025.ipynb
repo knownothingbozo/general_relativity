{
 "cells": [
  {
   "cell_type": "code",
   "execution_count": 1,
   "id": "b5faec84-7fc8-4e6c-87d5-a79360fda89f",
   "metadata": {},
   "outputs": [],
   "source": [
    "import sympy as sp\n",
    "from IPython.display import display, Math"
   ]
  },
  {
   "cell_type": "code",
   "execution_count": 2,
   "id": "4ef6210d-9ea2-44b6-9e3a-31af315f79d3",
   "metadata": {},
   "outputs": [],
   "source": [
    "c, x, y, z, t, tau, r, r_s, theta, phi, sin, Gamma = sp.symbols('c, x, y, z, t, tau, r, r_s, theta, phi, sin, Gamma') "
   ]
  },
  {
   "cell_type": "code",
   "execution_count": 3,
   "id": "ec0fdd8d-1c32-4fa5-90af-ad54088d068c",
   "metadata": {},
   "outputs": [
    {
     "data": {
      "text/latex": [
       "$\\displaystyle \\left[\\begin{matrix}c^{2} \\left(-1 + \\frac{r_{s}}{r}\\right) & 0 & 0 & 0\\\\0 & \\frac{1}{1 - \\frac{r_{s}}{r}} & 0 & 0\\\\0 & 0 & r^{2} & 0\\\\0 & 0 & 0 & r^{2} \\sin^{2}{\\left(\\theta \\right)}\\end{matrix}\\right]$"
      ],
      "text/plain": [
       "Matrix([\n",
       "[c**2*(-1 + r_s/r),             0,    0,                  0],\n",
       "[                0, 1/(1 - r_s/r),    0,                  0],\n",
       "[                0,             0, r**2,                  0],\n",
       "[                0,             0,    0, r**2*sin(theta)**2]])"
      ]
     },
     "execution_count": 3,
     "metadata": {},
     "output_type": "execute_result"
    }
   ],
   "source": [
    "# define the metric\n",
    "\n",
    "g_C = sp.Matrix([[1, 0, 0], # Cartsian metric for flat space-time \n",
    "              [0, 1, 0], \n",
    "              [0, 0, 1]])\n",
    "\n",
    "g_S = sp.Matrix([[1, 0, 0], # Spherical metric for flat space-time \n",
    "              [0, r**2, 0], \n",
    "              [0, 0, (r**2)*sp.sin(theta)**2]])\n",
    "\n",
    "g_CM = sp.Matrix([[-c**2, 0, 0, 0], # 4D Minkoski metric for flat space-time in Cartesian \n",
    "              [0, 1, 0, 0], \n",
    "              [0, 0, 1, 0], \n",
    "              [0, 0, 0, 1]])\n",
    "\n",
    "g_SM = sp.Matrix([[-c**2, 0, 0, 0], # 4D Minkoski metric in spherical \n",
    "              [0, 1, 0, 0], \n",
    "              [0, 0, r**2, 0], \n",
    "              [0, 0, 0, (r**2)*sp.sin(theta)**2]])\n",
    "\n",
    "g_SC = sp.Matrix([[-(1 - r_s/r)*c**2, 0, 0, 0], # Schwarzchild metric\n",
    "              [0, 1/(1 - r_s/r), 0, 0], \n",
    "              [0, 0, r**2, 0], \n",
    "              [0, 0, 0, (r**2)*sp.sin(theta)**2]])\n",
    "g_SC"
   ]
  },
  {
   "cell_type": "code",
   "execution_count": 4,
   "id": "47ce2aa9-e6f7-432d-9299-25f52869f783",
   "metadata": {},
   "outputs": [],
   "source": [
    "cart_coords = [x, y, z]\n",
    "sphere_coords = [r, theta, phi]\n",
    "cart_4D_coords = [t, x, y, z]\n",
    "sphere_4D_coords = [t, r, theta, phi]"
   ]
  },
  {
   "cell_type": "code",
   "execution_count": 19,
   "id": "42ad3034-126b-41c5-ad2e-024abba4a9b3",
   "metadata": {},
   "outputs": [
    {
     "data": {
      "text/latex": [
       "$\\displaystyle \\Gamma^{0}_{01} = \\frac{0.5 r_{s}}{r \\left(r - r_{s}\\right)}$"
      ],
      "text/plain": [
       "<IPython.core.display.Math object>"
      ]
     },
     "metadata": {},
     "output_type": "display_data"
    },
    {
     "data": {
      "text/latex": [
       "$\\displaystyle \\Gamma^{0}_{10} = \\frac{0.5 r_{s}}{r \\left(r - r_{s}\\right)}$"
      ],
      "text/plain": [
       "<IPython.core.display.Math object>"
      ]
     },
     "metadata": {},
     "output_type": "display_data"
    },
    {
     "data": {
      "text/latex": [
       "$\\displaystyle \\Gamma^{1}_{00} = \\frac{0.5 c^{2} r_{s} \\left(r - r_{s}\\right)}{r^{3}}$"
      ],
      "text/plain": [
       "<IPython.core.display.Math object>"
      ]
     },
     "metadata": {},
     "output_type": "display_data"
    },
    {
     "data": {
      "text/latex": [
       "$\\displaystyle \\Gamma^{1}_{11} = - \\frac{0.5 r_{s}}{r \\left(r - r_{s}\\right)}$"
      ],
      "text/plain": [
       "<IPython.core.display.Math object>"
      ]
     },
     "metadata": {},
     "output_type": "display_data"
    },
    {
     "data": {
      "text/latex": [
       "$\\displaystyle \\Gamma^{1}_{22} = - 1.0 r + 1.0 r_{s}$"
      ],
      "text/plain": [
       "<IPython.core.display.Math object>"
      ]
     },
     "metadata": {},
     "output_type": "display_data"
    },
    {
     "data": {
      "text/latex": [
       "$\\displaystyle \\Gamma^{1}_{33} = 1.0 \\left(- r + r_{s}\\right) \\sin^{2}{\\left(\\theta \\right)}$"
      ],
      "text/plain": [
       "<IPython.core.display.Math object>"
      ]
     },
     "metadata": {},
     "output_type": "display_data"
    },
    {
     "data": {
      "text/latex": [
       "$\\displaystyle \\Gamma^{2}_{12} = \\frac{1.0}{r}$"
      ],
      "text/plain": [
       "<IPython.core.display.Math object>"
      ]
     },
     "metadata": {},
     "output_type": "display_data"
    },
    {
     "data": {
      "text/latex": [
       "$\\displaystyle \\Gamma^{2}_{21} = \\frac{1.0}{r}$"
      ],
      "text/plain": [
       "<IPython.core.display.Math object>"
      ]
     },
     "metadata": {},
     "output_type": "display_data"
    },
    {
     "data": {
      "text/latex": [
       "$\\displaystyle \\Gamma^{2}_{33} = - 0.5 \\sin{\\left(2 \\theta \\right)}$"
      ],
      "text/plain": [
       "<IPython.core.display.Math object>"
      ]
     },
     "metadata": {},
     "output_type": "display_data"
    },
    {
     "data": {
      "text/latex": [
       "$\\displaystyle \\Gamma^{3}_{13} = \\frac{1.0}{r}$"
      ],
      "text/plain": [
       "<IPython.core.display.Math object>"
      ]
     },
     "metadata": {},
     "output_type": "display_data"
    },
    {
     "data": {
      "text/latex": [
       "$\\displaystyle \\Gamma^{3}_{23} = \\frac{1.0}{\\tan{\\left(\\theta \\right)}}$"
      ],
      "text/plain": [
       "<IPython.core.display.Math object>"
      ]
     },
     "metadata": {},
     "output_type": "display_data"
    },
    {
     "data": {
      "text/latex": [
       "$\\displaystyle \\Gamma^{3}_{31} = \\frac{1.0}{r}$"
      ],
      "text/plain": [
       "<IPython.core.display.Math object>"
      ]
     },
     "metadata": {},
     "output_type": "display_data"
    },
    {
     "data": {
      "text/latex": [
       "$\\displaystyle \\Gamma^{3}_{32} = \\frac{1.0}{\\tan{\\left(\\theta \\right)}}$"
      ],
      "text/plain": [
       "<IPython.core.display.Math object>"
      ]
     },
     "metadata": {},
     "output_type": "display_data"
    }
   ],
   "source": [
    "def christoffel_symbols(metric, coords):\n",
    "    n = len(coords)\n",
    "    g = sp.Matrix(metric)\n",
    "    g_inv = g.inv()\n",
    "    \n",
    "    Gamma = [[[0 for _ in range(n)] for _ in range(n)] for _ in range(n)]\n",
    "    \n",
    "    for lambda_idx in range(n):\n",
    "        for mu_idx in range(n):\n",
    "            for nu_idx in range(n):\n",
    "                cs = 0\n",
    "                for sigma_idx in range(n):\n",
    "                    cs += 0.5*g_inv[lambda_idx, sigma_idx]*(sp.diff(g[nu_idx, sigma_idx], coords[mu_idx]) +\n",
    "                             sp.diff(g[mu_idx, sigma_idx], coords[nu_idx]) -\n",
    "                             sp.diff(g[mu_idx, nu_idx], coords[sigma_idx]))\n",
    "                \n",
    "                Gamma[lambda_idx][mu_idx][nu_idx] = sp.simplify(cs)\n",
    "    \n",
    "    return Gamma\n",
    "\n",
    "Gamma = christoffel_symbols(g_SC, sphere_4D_coords)\n",
    "\n",
    "for i in range(len(sphere_4D_coords)):\n",
    "    for j in range(len(sphere_4D_coords)):\n",
    "        for k in range(len(sphere_4D_coords)):\n",
    "            if Gamma[i][j][k] != 0:\n",
    "                display(Math(r\"\\Gamma^{\" + f\"{i}\" + r\"}_{\" + f\"{j}{k}\" + r\"} = \" + sp.latex(Gamma[i][j][k])))"
   ]
  },
  {
   "cell_type": "code",
   "execution_count": null,
   "id": "ebebacbd-6de1-4f36-b861-0309ec14f2a0",
   "metadata": {},
   "outputs": [],
   "source": []
  },
  {
   "cell_type": "code",
   "execution_count": null,
   "id": "d1c8d936-c746-40a9-9c78-2ec79af53ef7",
   "metadata": {},
   "outputs": [],
   "source": []
  }
 ],
 "metadata": {
  "kernelspec": {
   "display_name": "Python 3 (ipykernel)",
   "language": "python",
   "name": "python3"
  },
  "language_info": {
   "codemirror_mode": {
    "name": "ipython",
    "version": 3
   },
   "file_extension": ".py",
   "mimetype": "text/x-python",
   "name": "python",
   "nbconvert_exporter": "python",
   "pygments_lexer": "ipython3",
   "version": "3.11.5"
  }
 },
 "nbformat": 4,
 "nbformat_minor": 5
}
