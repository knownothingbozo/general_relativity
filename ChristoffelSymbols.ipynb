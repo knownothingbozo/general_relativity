{
 "cells": [
  {
   "cell_type": "markdown",
   "id": "2d0415c5-58a0-439d-8259-c7e4fbded893",
   "metadata": {},
   "source": [
    "## Christoffl Symbol Calculator\n",
    "### Autumn Bauman\n",
    "Christoffel symbols are hard to I will just have python do it for me. This uses `sympy` to define a cordinate vector and a tensor, then itterates over all indicies (i,j,k) and computers the symbols for them.\n",
    "\n",
    "This is set up with the metric of earth currently but suppourts any arbitrairy metric, including those with offdiagonal elements."
   ]
  },
  {
   "cell_type": "code",
   "execution_count": 30,
   "id": "16ebda40-a9c1-4ea6-b84a-c642bd49dd7b",
   "metadata": {},
   "outputs": [],
   "source": [
    "import sympy as sy\n",
    "\n",
    "#Schwartzchild radius, if you want it numerical. If you want to leave it as r_s in the final output you use the \n",
    "#rs = 8.86e-3   \n",
    "rs = sy.symbols('r_s')\n",
    "\n",
    "# Coordinates\n",
    "x0,x1,x2,x3 = sy.symbols('x^(0:4)')\n",
    "\n",
    "# Put the coordinates in a vector \n",
    "X = sy.Matrix([x0,x1,x2,x3])\n",
    "\n",
    "# Here is your metric tensor\n",
    "g = sy.Matrix([\n",
    "                [-(1-(rs/x1)),0,0,0],\n",
    "                [0,(1-rs/x1)**-1,0,0],\n",
    "                [0,0,x1**2,0],\n",
    "                [0,0,0,(x1**2)*(sy.sin(x2))**2]\n",
    "])\n",
    "# Take the inverse to minimize computational time later on \n",
    "gInv = g.inv()"
   ]
  },
  {
   "cell_type": "code",
   "execution_count": 43,
   "id": "36f4686c-ad0a-4479-83f5-071fa891d2fa",
   "metadata": {},
   "outputs": [],
   "source": [
    "# List which stores the christoffel symbols and their index\n",
    "C_S = []\n",
    "\n",
    "#itterate over all i\n",
    "for i in range(0,4):\n",
    "    #itterate over all j\n",
    "    for j in range(0,4):\n",
    "        #itterate over all k\n",
    "        for k in range(0,4):\n",
    "            # Define a tuple of which symbol it is\n",
    "            ijk = (i, j, k)\n",
    "            smbl = 0 # Temp variable to store the christoffel symbol\n",
    "            for l in range(0,4): #This itterates over the l component and then adds the results of the part of the symbol to the existing symbol\n",
    "                smbl = smbl+(1/2)*(gInv[i,l]*(sy.diff(g[k,l], X[j])+sy.diff(g[j,l], X[k])-sy.diff(g[j,k],X[l])))\n",
    "            # Puts symbols into the big list along with coordinates \n",
    "            C_S.append([smbl,ijk])\n",
    "            "
   ]
  },
  {
   "cell_type": "code",
   "execution_count": 45,
   "id": "4b090020-2e2e-4076-a190-4cad753144bc",
   "metadata": {},
   "outputs": [
    {
     "data": {
      "text/latex": [
       "$\\displaystyle - \\frac{0.5 r_{s}}{\\left(x^{1}\\right)^{2} \\left(\\frac{r_{s}}{x^{1}} - 1\\right)}$"
      ],
      "text/plain": [
       "-0.5*r_s/(x^1**2*(r_s/x^1 - 1))"
      ]
     },
     "metadata": {},
     "output_type": "display_data"
    },
    {
     "name": "stdout",
     "output_type": "stream",
     "text": [
      "(0, 0, 1) \n",
      "\n"
     ]
    },
    {
     "data": {
      "text/latex": [
       "$\\displaystyle - \\frac{0.5 r_{s}}{\\left(x^{1}\\right)^{2} \\left(\\frac{r_{s}}{x^{1}} - 1\\right)}$"
      ],
      "text/plain": [
       "-0.5*r_s/(x^1**2*(r_s/x^1 - 1))"
      ]
     },
     "metadata": {},
     "output_type": "display_data"
    },
    {
     "name": "stdout",
     "output_type": "stream",
     "text": [
      "(0, 1, 0) \n",
      "\n"
     ]
    },
    {
     "data": {
      "text/latex": [
       "$\\displaystyle \\frac{0.5 r_{s} \\left(- \\frac{r_{s}}{x^{1}} + 1\\right)}{\\left(x^{1}\\right)^{2}}$"
      ],
      "text/plain": [
       "0.5*r_s*(-r_s/x^1 + 1)/x^1**2"
      ]
     },
     "metadata": {},
     "output_type": "display_data"
    },
    {
     "name": "stdout",
     "output_type": "stream",
     "text": [
      "(1, 0, 0) \n",
      "\n"
     ]
    },
    {
     "data": {
      "text/latex": [
       "$\\displaystyle - \\frac{0.5 r_{s}}{\\left(x^{1}\\right)^{2} \\left(- \\frac{r_{s}}{x^{1}} + 1\\right)}$"
      ],
      "text/plain": [
       "-0.5*r_s/(x^1**2*(-r_s/x^1 + 1))"
      ]
     },
     "metadata": {},
     "output_type": "display_data"
    },
    {
     "name": "stdout",
     "output_type": "stream",
     "text": [
      "(1, 1, 1) \n",
      "\n"
     ]
    },
    {
     "data": {
      "text/latex": [
       "$\\displaystyle - 1.0 x^{1} \\left(- \\frac{r_{s}}{x^{1}} + 1\\right)$"
      ],
      "text/plain": [
       "-1.0*x^1*(-r_s/x^1 + 1)"
      ]
     },
     "metadata": {},
     "output_type": "display_data"
    },
    {
     "name": "stdout",
     "output_type": "stream",
     "text": [
      "(1, 2, 2) \n",
      "\n"
     ]
    },
    {
     "data": {
      "text/latex": [
       "$\\displaystyle - 1.0 x^{1} \\left(- \\frac{r_{s}}{x^{1}} + 1\\right) \\sin^{2}{\\left(x^{2} \\right)}$"
      ],
      "text/plain": [
       "-1.0*x^1*(-r_s/x^1 + 1)*sin(x^2)**2"
      ]
     },
     "metadata": {},
     "output_type": "display_data"
    },
    {
     "name": "stdout",
     "output_type": "stream",
     "text": [
      "(1, 3, 3) \n",
      "\n"
     ]
    },
    {
     "data": {
      "text/latex": [
       "$\\displaystyle \\frac{1.0}{x^{1}}$"
      ],
      "text/plain": [
       "1.0/x^1"
      ]
     },
     "metadata": {},
     "output_type": "display_data"
    },
    {
     "name": "stdout",
     "output_type": "stream",
     "text": [
      "(2, 1, 2) \n",
      "\n"
     ]
    },
    {
     "data": {
      "text/latex": [
       "$\\displaystyle \\frac{1.0}{x^{1}}$"
      ],
      "text/plain": [
       "1.0/x^1"
      ]
     },
     "metadata": {},
     "output_type": "display_data"
    },
    {
     "name": "stdout",
     "output_type": "stream",
     "text": [
      "(2, 2, 1) \n",
      "\n"
     ]
    },
    {
     "data": {
      "text/latex": [
       "$\\displaystyle - 1.0 \\sin{\\left(x^{2} \\right)} \\cos{\\left(x^{2} \\right)}$"
      ],
      "text/plain": [
       "-1.0*sin(x^2)*cos(x^2)"
      ]
     },
     "metadata": {},
     "output_type": "display_data"
    },
    {
     "name": "stdout",
     "output_type": "stream",
     "text": [
      "(2, 3, 3) \n",
      "\n"
     ]
    },
    {
     "data": {
      "text/latex": [
       "$\\displaystyle \\frac{1.0}{x^{1}}$"
      ],
      "text/plain": [
       "1.0/x^1"
      ]
     },
     "metadata": {},
     "output_type": "display_data"
    },
    {
     "name": "stdout",
     "output_type": "stream",
     "text": [
      "(3, 1, 3) \n",
      "\n"
     ]
    },
    {
     "data": {
      "text/latex": [
       "$\\displaystyle \\frac{1.0 \\cos{\\left(x^{2} \\right)}}{\\sin{\\left(x^{2} \\right)}}$"
      ],
      "text/plain": [
       "1.0*cos(x^2)/sin(x^2)"
      ]
     },
     "metadata": {},
     "output_type": "display_data"
    },
    {
     "name": "stdout",
     "output_type": "stream",
     "text": [
      "(3, 2, 3) \n",
      "\n"
     ]
    },
    {
     "data": {
      "text/latex": [
       "$\\displaystyle \\frac{1.0}{x^{1}}$"
      ],
      "text/plain": [
       "1.0/x^1"
      ]
     },
     "metadata": {},
     "output_type": "display_data"
    },
    {
     "name": "stdout",
     "output_type": "stream",
     "text": [
      "(3, 3, 1) \n",
      "\n"
     ]
    },
    {
     "data": {
      "text/latex": [
       "$\\displaystyle \\frac{1.0 \\cos{\\left(x^{2} \\right)}}{\\sin{\\left(x^{2} \\right)}}$"
      ],
      "text/plain": [
       "1.0*cos(x^2)/sin(x^2)"
      ]
     },
     "metadata": {},
     "output_type": "display_data"
    },
    {
     "name": "stdout",
     "output_type": "stream",
     "text": [
      "(3, 3, 2) \n",
      "\n"
     ]
    }
   ],
   "source": [
    "for b in C_S:\n",
    "    if b[0]:\n",
    "        display(b[0])\n",
    "        print(b[1],'\\n')"
   ]
  },
  {
   "cell_type": "code",
   "execution_count": null,
   "id": "d38c6f1d-4641-4269-b372-bcdbb81b4644",
   "metadata": {},
   "outputs": [],
   "source": []
  }
 ],
 "metadata": {
  "kernelspec": {
   "display_name": "Python 3 (ipykernel)",
   "language": "python",
   "name": "python3"
  },
  "language_info": {
   "codemirror_mode": {
    "name": "ipython",
    "version": 3
   },
   "file_extension": ".py",
   "mimetype": "text/x-python",
   "name": "python",
   "nbconvert_exporter": "python",
   "pygments_lexer": "ipython3",
   "version": "3.9.13"
  }
 },
 "nbformat": 4,
 "nbformat_minor": 5
}
